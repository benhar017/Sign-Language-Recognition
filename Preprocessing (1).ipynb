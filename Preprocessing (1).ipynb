{
 "cells": [
  {
   "cell_type": "code",
   "execution_count": 4,
   "metadata": {},
   "outputs": [],
   "source": [
    "import cv2\n",
    "import os,glob\n",
    "from os import listdir,makedirs\n",
    "from os.path import isfile,join\n",
    "import numpy as np"
   ]
  },
  {
   "cell_type": "code",
   "execution_count": 5,
   "metadata": {},
   "outputs": [
    {
     "name": "stdout",
     "output_type": "stream",
     "text": [
      ".DS_Store is not converted\n"
     ]
    }
   ],
   "source": [
    "a=['A','B','C','D','E','F','G','H','I','J','K','L','M','N','O','P','Q','R','S','T','U','V','W','X','Y','Z','1','2','3','4','5','6','7','8','9']\n",
    "for i in a:\n",
    "    path = 'data/'+str(i)\n",
    "    dstpath = 'ppdata/'+str(i)\n",
    "    try:\n",
    "        makedirs(dstpath)\n",
    "    except:\n",
    "        print (\"Directory already exist, images will be written in same folder\")\n",
    "    \n",
    "    files = list(filter(lambda f: isfile(join(path,f)), listdir(path)))\n",
    "    for image in files:\n",
    "        try:\n",
    "            img = cv2.imread(os.path.join(path,image),cv2.IMREAD_GRAYSCALE)\n",
    "            edges = cv2.Canny(img,100,200)\n",
    "            img1=255-edges\n",
    "            dstPath = join(dstpath,image)\n",
    "            cv2.imwrite(dstPath,img1)\n",
    "            \n",
    "            \n",
    "            \n",
    "        except:\n",
    "            print (\"{} is not converted\".format(image))\n",
    "    "
   ]
  },
  {
   "cell_type": "code",
   "execution_count": null,
   "metadata": {},
   "outputs": [],
   "source": []
  }
 ],
 "metadata": {
  "kernelspec": {
   "display_name": "Python 3",
   "language": "python",
   "name": "python3"
  },
  "language_info": {
   "codemirror_mode": {
    "name": "ipython",
    "version": 3
   },
   "file_extension": ".py",
   "mimetype": "text/x-python",
   "name": "python",
   "nbconvert_exporter": "python",
   "pygments_lexer": "ipython3",
   "version": "3.9.2"
  }
 },
 "nbformat": 4,
 "nbformat_minor": 4
}
